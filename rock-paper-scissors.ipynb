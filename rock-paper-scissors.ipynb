{
 "cells": [
  {
   "cell_type": "markdown",
   "metadata": {},
   "source": [
    "<img src=\"https://bit.ly/2VnXWr2\" width=\"100\" align=\"left\">"
   ]
  },
  {
   "cell_type": "markdown",
   "metadata": {},
   "source": [
    "# Rock, Paper & Scissors\n",
    "\n",
    "Let's play the famous game against our computer. You can check the rules [here](https://en.wikipedia.org/wiki/Rock%E2%80%93paper%E2%80%93scissors). \n",
    "\n",
    "## Task\n",
    "Create a program that imitates the playability of the well known game of rock, paper, scissors. Follow the guidelines provided.\n",
    "\n",
    "## Tools\n",
    "1. Loop: **for/while**\n",
    "2. Functions: **input(), print()...**\n",
    "3. Conditional statements: **if, elif, else**\n",
    "4. Definition of functions. Modular programming\n",
    "5. Import modules\n",
    "\n",
    "**To solve this challenge, the use of functions is recommended.**\n",
    "\n",
    "#### 1. Import the choice function of the random module."
   ]
  },
  {
   "cell_type": "code",
   "execution_count": 3,
   "metadata": {},
   "outputs": [],
   "source": [
    "import numpy as np\n",
    "import random\n"
   ]
  },
  {
   "cell_type": "markdown",
   "metadata": {},
   "source": [
    "#### 2. Create a list that includes the 3 possible gesture options of the game: 'rock', 'paper' or 'scissors'. Store the list in a variable called `gestures`."
   ]
  },
  {
   "cell_type": "code",
   "execution_count": 4,
   "metadata": {},
   "outputs": [],
   "source": [
    "gestures = [\"rock\", \"paper\", \"scissors\"]"
   ]
  },
  {
   "cell_type": "markdown",
   "metadata": {},
   "source": [
    "#### 3. Create a variable called `n_rounds` to store the maximum number of rounds to play in a game. \n",
    "Remember that the number of rounds must be odd: 1, 3, 5, ..."
   ]
  },
  {
   "cell_type": "code",
   "execution_count": 29,
   "metadata": {},
   "outputs": [],
   "source": [
    "n_rounds = 3"
   ]
  },
  {
   "cell_type": "markdown",
   "metadata": {},
   "source": [
    "#### 4. Create a variable called `rounds_to_win` to store the number of rounds that a player must win to win the game.\n",
    "**Hint**: the value stored in `rounds_to_win` depends on the value of `n_rounds`. "
   ]
  },
  {
   "cell_type": "code",
   "execution_count": 30,
   "metadata": {},
   "outputs": [],
   "source": [
    "rounds_to_win = 2"
   ]
  },
  {
   "cell_type": "markdown",
   "metadata": {},
   "source": [
    "#### 5. Create two variables to store the number of rounds that the computer and the player have won. Call these variables `cpu_score` and `player_score`."
   ]
  },
  {
   "cell_type": "code",
   "execution_count": 21,
   "metadata": {},
   "outputs": [],
   "source": [
    "cpu_score = 0\n",
    "player_score = 0"
   ]
  },
  {
   "cell_type": "markdown",
   "metadata": {},
   "source": [
    "#### 6. Define a function that randomly returns one of the 3 gesture options.\n",
    "You will use this function to simulate the gesture choice of the computer. "
   ]
  },
  {
   "cell_type": "code",
   "execution_count": 34,
   "metadata": {},
   "outputs": [],
   "source": [
    "computer = np.random.choice(gestures)"
   ]
  },
  {
   "cell_type": "markdown",
   "metadata": {},
   "source": [
    "#### 7. Define a function that asks the player which is the gesture he or she wants to show: 'rock', 'paper' or 'scissors'.\n",
    "The player should only be allowed to choose one of the 3 gesture options. If the player's choice is not rock, paper or scissors, keep asking until it is."
   ]
  },
  {
   "cell_type": "code",
   "execution_count": 68,
   "metadata": {},
   "outputs": [
    {
     "name": "stdout",
     "output_type": "stream",
     "text": [
      "Make your choice, rock, paper, or scissors?rock\n",
      "You have chosen rock\n",
      "Computer has chosen paper\n"
     ]
    }
   ],
   "source": [
    "computer = np.random.choice(gestures)\n",
    "if computer == \"rock\":\n",
    "    cpu1 = \"D\"\n",
    "elif computer == \"paper\":\n",
    "    cpu1 = \"E\"\n",
    "elif computer == \"scissors\":\n",
    "    cpu1 = \"F\"\n",
    "player_choice = input(\"Make your choice, rock, paper, or scissors?\")\n",
    "\n",
    "while player_choice not in (\"rock\",\"paper\", \"scissors\"):\n",
    "    \n",
    "    player_choice = input(\"Make your choice, rock, paper, or scissors?\")\n",
    "    \n",
    "if player_choice == \"rock\":\n",
    "    player1 = \"A\"\n",
    "elif player_choice == \"paper\":\n",
    "    player1 = \"B\"\n",
    "elif player_choice == \"scissors\":\n",
    "    player1 = \"C\"\n",
    "    \n",
    "   \n",
    "\n",
    "    \n",
    "print (\"You have chosen\", player_choice)  \n",
    "\n",
    "print (\"Computer has chosen\", computer) \n",
    "\n",
    "            \n",
    "    \n",
    "            \n",
    "\n",
    "    "
   ]
  },
  {
   "cell_type": "markdown",
   "metadata": {},
   "source": [
    "#### 8. Define a function that checks who won a round. \n",
    "The function should return 0 if there is a tie, 1 if the computer wins and 2 if the player wins."
   ]
  },
  {
   "cell_type": "code",
   "execution_count": 69,
   "metadata": {},
   "outputs": [
    {
     "name": "stdout",
     "output_type": "stream",
     "text": [
      "[('A', 'E')]\n"
     ]
    }
   ],
   "source": [
    "game_play = list(zip(player1, cpu1))\n",
    "print (game_play)\n",
    "\n",
    "player_score = 0\n",
    "cpu_score = 0\n",
    "tie = 0\n",
    "\n",
    "for (x,y) in game_play :\n",
    "    \n",
    "    if x == y:\n",
    "        tie += 1\n",
    "        \n",
    "    elif x == \"A\" and y ==\"F\":\n",
    "        player_score +=1  \n",
    "        \n",
    "    elif x == \"B\" and y ==\"D\":\n",
    "        player_score += 1\n",
    "\n",
    "    elif x == \"C\" and y ==\"E\":\n",
    "        player_score +=1\n",
    "        \n",
    "        \n",
    "    elif y == \"D\" and x ==\"C\":\n",
    "        cpu_score +=1\n",
    "        \n",
    "    elif y== \"E\" and x==\"A\":\n",
    "        cpu_score +=1\n",
    "        \n",
    "    elif y == \"F\" and x ==\"B\":\n",
    "            cpu_score += 1\n",
    "    \n",
    "    else:\n",
    "         break\n",
    "\n"
   ]
  },
  {
   "cell_type": "markdown",
   "metadata": {},
   "source": [
    "#### 9. Define a function that prints the choice of the computer, the choice of the player and a message that announces who won the current round. \n",
    "You should also use this function to update the variables that count the number of rounds that the computer and the player have won. The score of the winner increases by one point. If there is a tie, the score does not increase."
   ]
  },
  {
   "cell_type": "code",
   "execution_count": 70,
   "metadata": {},
   "outputs": [
    {
     "name": "stdout",
     "output_type": "stream",
     "text": [
      "You have chosen rock\n",
      "Computer has chosen paper\n",
      "The Computer Wins\n"
     ]
    }
   ],
   "source": [
    "print (\"You have chosen\", player_choice)  \n",
    "\n",
    "print (\"Computer has chosen\", computer) \n",
    "\n",
    "\n",
    "    \n",
    "if player_score ==1:\n",
    "    print (\"You Win\")\n",
    "elif cpu_score == 1:\n",
    "    print(\"The Computer Wins\")\n",
    "else:\n",
    "    print (\"Tie!\")\n",
    "    \n",
    "    "
   ]
  },
  {
   "cell_type": "markdown",
   "metadata": {},
   "source": [
    "#### 10. Now it's time to code the execution of the game using the functions and variables you defined above. \n",
    "\n",
    "First, create a loop structure that repeats while no player reaches the minimum score necessary to win and the number of rounds is less than the maximum number of rounds to play in a game.  \n",
    "\n",
    "Inside the loop, use the functions and variables above to create the execution of a round: ask for the player's choice, generate the random choice of the computer, show the round results, update the scores, etc. "
   ]
  },
  {
   "cell_type": "code",
   "execution_count": 100,
   "metadata": {},
   "outputs": [
    {
     "name": "stdout",
     "output_type": "stream",
     "text": [
      "Make your choice, rock, paper, or scissors?rock\n",
      "You have chosen rock\n",
      "Computer has chosen scissors\n",
      "[('A', 'F')]\n",
      "You win round\n",
      "Make your choice, rock, paper, or scissors?paper\n",
      "You have chosen paper\n",
      "Computer has chosen rock\n",
      "[('B', 'D')]\n",
      "You win round\n"
     ]
    }
   ],
   "source": [
    "player_score = 0\n",
    "cpu_score = 0\n",
    "tie = 0\n",
    "    \n",
    "while player_score <2 and cpu_score < 2 and tie <2:\n",
    "    computer = np.random.choice(gestures)\n",
    "    if computer == \"rock\":\n",
    "        cpu1 = \"D\"\n",
    "    elif computer == \"paper\":\n",
    "        cpu1 = \"E\"\n",
    "    elif computer == \"scissors\":\n",
    "        cpu1 = \"F\"\n",
    "    player_choice = input(\"Make your choice, rock, paper, or scissors?\")\n",
    "\n",
    "    while player_choice not in (\"rock\",\"paper\", \"scissors\"):\n",
    "    \n",
    "        player_choice = input(\"Make your choice, rock, paper, or scissors?\")\n",
    "    \n",
    "    if player_choice == \"rock\":\n",
    "        player1 = \"A\"\n",
    "    elif player_choice == \"paper\":\n",
    "        player1 = \"B\"\n",
    "    elif player_choice == \"scissors\":\n",
    "        player1 = \"C\"\n",
    "       \n",
    "    print (\"You have chosen\", player_choice)  \n",
    "\n",
    "    print (\"Computer has chosen\", computer) \n",
    "\n",
    "    game_play = list(zip(player1, cpu1))\n",
    "    print (game_play)\n",
    "\n",
    "    for (x,y) in game_play :\n",
    "    \n",
    "        if x == y:\n",
    "            tie += 1\n",
    "            print (\"Tie\")\n",
    "        elif x == \"A\" and y ==\"F\":\n",
    "            player_score +=1 \n",
    "            print (\"You win round\")\n",
    "        \n",
    "        elif x == \"B\" and y ==\"D\":\n",
    "            player_score += 1\n",
    "            print (\"You win round\")\n",
    "\n",
    "        elif x == \"C\" and y ==\"E\":\n",
    "            player_score +=1\n",
    "            print (\"You win round\")\n",
    "        \n",
    "        \n",
    "        elif y == \"D\" and x ==\"C\":\n",
    "            cpu_score +=1\n",
    "            print (\"Computer wins round\")\n",
    "        \n",
    "        elif y== \"E\" and x==\"A\":\n",
    "            cpu_score +=1\n",
    "            print (\"Computer wins round\")\n",
    "        \n",
    "        elif y == \"F\" and x ==\"B\":\n",
    "            cpu_score += 1\n",
    "            print (\"Computer wins round\")\n",
    "        \n",
    "        elif x==\"A\" and y == \"D\":\n",
    "            tie += 1\n",
    "            print (\"Tie\")\n",
    "        \n",
    "        elif x== \"B\" and y == \"E\":\n",
    "            tie += 1\n",
    "            print (\"Tie\")\n",
    "        \n",
    "        elif x== \"C\" and y == \"F\":\n",
    "            tie +=1\n",
    "            print (\"Tie\")\n",
    "            \n",
    "            \n",
    "else:\n",
    "    if player_score == 2:\n",
    "        print ('You win the GAME!')\n",
    "    elif cpu_score == 2:\n",
    "        print ('Computer wins the GAME.')\n",
    "    elif tie == 2:\n",
    "        print (\"Game is a DRAW\")\n",
    "\n",
    "      \n"
   ]
  },
  {
   "cell_type": "markdown",
   "metadata": {},
   "source": [
    "#### 11. Print the winner of the game based on who won more rounds.\n",
    "Remember that the game might be tied. "
   ]
  },
  {
   "cell_type": "code",
   "execution_count": 101,
   "metadata": {},
   "outputs": [
    {
     "name": "stdout",
     "output_type": "stream",
     "text": [
      "You win the GAME!\n"
     ]
    }
   ],
   "source": [
    "if player_score == 2:\n",
    "    print ('You win the GAME!')\n",
    "elif cpu_score == 2:\n",
    "    print ('Computer wins the GAME.')\n",
    "elif tie == 2:\n",
    "    print (\"Game is a DRAW\")\n",
    "    \n",
    "      "
   ]
  },
  {
   "cell_type": "markdown",
   "metadata": {},
   "source": [
    "# Bonus: Rock, Paper, Scissors, Lizard & Spock\n",
    "![](images/rpsls.jpg)\n",
    "\n",
    "In this challenge, you need to improve the previous game by adding two new options. To know more about the rules of the improved version of rock, paper, scissors, check this [link](http://www.samkass.com/theories/RPSSL.html). \n",
    "\n",
    "In addition, you will also need to improve how the game interacts with the player: the number of rounds to play, which must be an odd number, will be requested to the user until a valid number is entered. Define a new function to make that request.\n",
    "\n",
    "**Hint**: Try to reuse the code that you already coded in the previous challenge. If your code is efficient, this bonus will only consist of simple modifications to the original game."
   ]
  },
  {
   "cell_type": "code",
   "execution_count": null,
   "metadata": {},
   "outputs": [],
   "source": []
  }
 ],
 "metadata": {
  "kernelspec": {
   "display_name": "Python 3",
   "language": "python",
   "name": "python3"
  },
  "language_info": {
   "codemirror_mode": {
    "name": "ipython",
    "version": 3
   },
   "file_extension": ".py",
   "mimetype": "text/x-python",
   "name": "python",
   "nbconvert_exporter": "python",
   "pygments_lexer": "ipython3",
   "version": "3.7.6"
  }
 },
 "nbformat": 4,
 "nbformat_minor": 2
}
